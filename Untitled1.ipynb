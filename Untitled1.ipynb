{
 "cells": [
  {
   "cell_type": "code",
   "execution_count": 1,
   "id": "e23d6679",
   "metadata": {},
   "outputs": [],
   "source": [
    "class university:\n",
    "    def __init__(self, surname, number, passed, upTo100, studyForm):\n",
    "        self.surname = surname\n",
    "        self.number = number\n",
    "        self.passed = passed\n",
    "        self.upTo100 = upTo100\n",
    "        self.studyForm = studyForm"
   ]
  },
  {
   "cell_type": "code",
   "execution_count": 2,
   "id": "e8d5daf9",
   "metadata": {},
   "outputs": [],
   "source": [
    "import sqlite3"
   ]
  },
  {
   "cell_type": "code",
   "execution_count": 3,
   "id": "8bd3b06e",
   "metadata": {},
   "outputs": [
    {
     "data": {
      "text/plain": [
       "<sqlite3.Cursor at 0x1ca27d16340>"
      ]
     },
     "execution_count": 3,
     "metadata": {},
     "output_type": "execute_result"
    }
   ],
   "source": [
    "conn = sqlite3.connect(\"university.db\")\n",
    "cursor = conn.cursor()\n",
    "cursor.execute(\"\"\"CREATE TABLE university\n",
    "                  (surname text, \n",
    "                  number integer,\n",
    "                  passed integer,\n",
    "                   upTo100 integer,\n",
    "                   studyForm text)\n",
    "               \"\"\")"
   ]
  },
  {
   "cell_type": "code",
   "execution_count": 4,
   "id": "2f306388",
   "metadata": {},
   "outputs": [],
   "source": [
    "cursor.execute(\"\"\"INSERT INTO university\n",
    "                  VALUES ('Antonova', '5', '6',\n",
    "                  '12', 'full'),\n",
    "                  ('Bohdanovich', '17', '3',\n",
    "                  '9', 'full'),\n",
    "                  ('Kazakevich', '99', '1',\n",
    "                  '50', 'extramural'),\n",
    "                  ('Vasylenko', '1', '8',\n",
    "                  '0', 'extramural'),\n",
    "                  ('Antoniuk', '30', '7',\n",
    "                  '33', 'full')\"\"\"\n",
    "               )\n",
    "conn.commit()"
   ]
  },
  {
   "cell_type": "code",
   "execution_count": 5,
   "id": "472054a3",
   "metadata": {},
   "outputs": [
    {
     "name": "stdout",
     "output_type": "stream",
     "text": [
      "[('Antonova', 5, 6, 12, 'full'), ('Bohdanovich', 17, 3, 9, 'full'), ('Kazakevich', 99, 1, 50, 'extramural'), ('Vasylenko', 1, 8, 0, 'extramural'), ('Antoniuk', 30, 7, 33, 'full')]\n"
     ]
    }
   ],
   "source": [
    "sql1 = \"SELECT * FROM university\"\n",
    "cursor.execute(sql1)\n",
    "print(cursor.fetchall())"
   ]
  },
  {
   "cell_type": "code",
   "execution_count": 7,
   "id": "598dd2be",
   "metadata": {},
   "outputs": [
    {
     "name": "stdout",
     "output_type": "stream",
     "text": [
      "[('Kazakevich', 99, 1, 50, 'extramural'), ('Vasylenko', 1, 8, 0, 'extramural')]\n"
     ]
    }
   ],
   "source": [
    "sql2 = \"SELECT * FROM university WHERE studyForm = 'extramural'\"\n",
    "cursor.execute(sql2)\n",
    "print(cursor.fetchall())"
   ]
  },
  {
   "cell_type": "code",
   "execution_count": 10,
   "id": "9cdd0f98",
   "metadata": {},
   "outputs": [
    {
     "name": "stdout",
     "output_type": "stream",
     "text": [
      "[('Antonova', 5, 6, 12, 'full')]\n"
     ]
    }
   ],
   "source": [
    "sql3 = \"SELECT * FROM university WHERE number = 5\"\n",
    "cursor.execute(sql3)\n",
    "print(cursor.fetchall())"
   ]
  },
  {
   "cell_type": "code",
   "execution_count": 11,
   "id": "b013f47a",
   "metadata": {},
   "outputs": [
    {
     "data": {
      "text/plain": [
       "<sqlite3.Cursor at 0x1ca27d16340>"
      ]
     },
     "execution_count": 11,
     "metadata": {},
     "output_type": "execute_result"
    }
   ],
   "source": [
    "sql4 = \"UPDATE university SET studyForm = 'extramural' WHERE number = 5\"\n",
    "cursor.execute(sql4)"
   ]
  },
  {
   "cell_type": "code",
   "execution_count": 12,
   "id": "ae215eca",
   "metadata": {},
   "outputs": [
    {
     "name": "stdout",
     "output_type": "stream",
     "text": [
      "[('Antonova', 5, 6, 12, 'extramural'), ('Bohdanovich', 17, 3, 9, 'full'), ('Kazakevich', 99, 1, 50, 'extramural'), ('Vasylenko', 1, 8, 0, 'extramural'), ('Antoniuk', 30, 7, 33, 'full')]\n"
     ]
    }
   ],
   "source": [
    "sql1 = \"SELECT * FROM university\"\n",
    "cursor.execute(sql1)\n",
    "print(cursor.fetchall())"
   ]
  },
  {
   "cell_type": "code",
   "execution_count": 13,
   "id": "9cf4a6e8",
   "metadata": {},
   "outputs": [
    {
     "name": "stdout",
     "output_type": "stream",
     "text": [
      "[('Antonova', 5, 6, 12, 'extramural'), ('Kazakevich', 99, 1, 50, 'extramural'), ('Vasylenko', 1, 8, 0, 'extramural')]\n"
     ]
    }
   ],
   "source": [
    "sql2 = \"SELECT * FROM university WHERE studyForm = 'extramural'\"\n",
    "cursor.execute(sql2)\n",
    "print(cursor.fetchall())"
   ]
  },
  {
   "cell_type": "code",
   "execution_count": 14,
   "id": "546ceb6e",
   "metadata": {},
   "outputs": [
    {
     "name": "stdout",
     "output_type": "stream",
     "text": [
      "[('Antonova', 5, 6, 12, 'extramural')]\n"
     ]
    }
   ],
   "source": [
    "sql3 = \"SELECT * FROM university WHERE number = 5\"\n",
    "cursor.execute(sql3)\n",
    "print(cursor.fetchall())"
   ]
  }
 ],
 "metadata": {
  "kernelspec": {
   "display_name": "Python 3 (ipykernel)",
   "language": "python",
   "name": "python3"
  },
  "language_info": {
   "codemirror_mode": {
    "name": "ipython",
    "version": 3
   },
   "file_extension": ".py",
   "mimetype": "text/x-python",
   "name": "python",
   "nbconvert_exporter": "python",
   "pygments_lexer": "ipython3",
   "version": "3.8.12"
  }
 },
 "nbformat": 4,
 "nbformat_minor": 5
}
